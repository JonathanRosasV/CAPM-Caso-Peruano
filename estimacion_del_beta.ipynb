{
  "nbformat": 4,
  "nbformat_minor": 0,
  "metadata": {
    "colab": {
      "provenance": [],
      "include_colab_link": true
    },
    "kernelspec": {
      "name": "python3",
      "display_name": "Python 3"
    },
    "language_info": {
      "name": "python"
    }
  },
  "cells": [
    {
      "cell_type": "markdown",
      "metadata": {
        "id": "view-in-github",
        "colab_type": "text"
      },
      "source": [
        "<a href=\"https://colab.research.google.com/github/JonathanRosasV/CAPM-Caso-Peruano/blob/main/estimacion_del_beta.ipynb\" target=\"_parent\"><img src=\"https://colab.research.google.com/assets/colab-badge.svg\" alt=\"Open In Colab\"/></a>"
      ]
    },
    {
      "cell_type": "code",
      "execution_count": null,
      "metadata": {
        "id": "2pYfQL5amI2Y"
      },
      "outputs": [],
      "source": [
        "# Carga de paquetes\n",
        "import pandas_datareader as pdr\n",
        "from pandas_datareader import data, wb\n",
        "from datetime import date\n",
        "import numpy as np\n",
        "import pandas as pd\n"
      ]
    },
    {
      "cell_type": "code",
      "source": [
        "# Definimos un retorno para el activo libre de riesgo\n",
        "risk_free_return = 0.05\n",
        "\n",
        "def capm(start, end, ticker1, ticker2):\n",
        "    # Obtenemos la data de la acción\n",
        "    stock1 = pdr.get_data_yahoo(ticker1, start, end)\n",
        "    # Obtenemos la data del mercado\n",
        "    stock2 = pdr.get_data_yahoo(ticker2, start, end)\n",
        "\n",
        "    #Resample for monthly data\n",
        "    return_s1 = stock1.resample('M').last()\n",
        "    return_s2 = stock2.resample('M').last()\n",
        "\n",
        "    #Create a dataframe with the adjusted close\n",
        "    data = pd.DataFrame({'s_adjclose' : return_s1['Adj Close'], 'm_adjclose': return_s2['Adj Close']}, index=return_s1.index)\n",
        "\n",
        "    #Calc the stock and market retuens by computing log(n)/log(n-1)\n",
        "    data[['s_returns','m_returns']] = np.log(data[['s_adjclose', 'm_adjclose']]/data[['s_adjclose', 'm_adjclose']].shift(1))\n",
        "\n",
        "    #Drop null values\n",
        "    data = data.dropna();\n",
        "\n",
        "    #Generate covarience matrix\n",
        "    covmat = np.cov(data[\"s_returns\"], data[\"m_returns\"])\n",
        "\n",
        "    #Calc beta from matrix\n",
        "    beta = covmat[0,1]/covmat[1,1]\n",
        "\n",
        "    print(\"Beta from formula: \", beta)\n",
        "\n",
        "    #Calc beta from regression\n",
        "    beta, alpha = np.polyfit(data[\"m_returns\"], data[\"s_returns\"], deg=1)\n",
        "    print(\"Beta from regression: \", beta)\n",
        "\n",
        "    #Calc expected return\n",
        "    expected_return = risk_free_return + beta*(data[\"m_returns\"].mean()*12-risk_free_return)\n",
        "    print(\"Expected Return: \",expected_return)\n",
        "\n",
        "if __name__ == \"__main__\":\n",
        "    capm(\"01 01 2016\", \"10 10 2019\", 'S', \"^GSPC\")"
      ],
      "metadata": {
        "id": "RCsEHI9Bn0iU"
      },
      "execution_count": null,
      "outputs": []
    }
  ]
}