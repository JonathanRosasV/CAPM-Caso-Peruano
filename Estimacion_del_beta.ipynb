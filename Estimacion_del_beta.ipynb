{
  "nbformat": 4,
  "nbformat_minor": 0,
  "metadata": {
    "colab": {
      "provenance": [],
      "name": "Estimacion_del_beta.ipynb"
    },
    "kernelspec": {
      "name": "python3",
      "display_name": "Python 3"
    },
    "language_info": {
      "name": "python"
    }
  },
  "cells": [
    {
      "cell_type": "code",
      "execution_count": 1,
      "metadata": {
        "id": "2pYfQL5amI2Y"
      },
      "outputs": [],
      "source": [
        "# Carga de paquetes\n",
        "import pandas_datareader as pdr\n",
        "from pandas_datareader import data, wb\n",
        "from datetime import date\n",
        "import yfinance as yf\n",
        "import numpy as np\n",
        "import pandas as pd"
      ]
    },
    {
      "cell_type": "code",
      "source": [
        "# Definir un retorno para el activo libre de riesgo\n",
        "risk_free_return = 0.03\n",
        "\n",
        "# Definir fechas\n",
        "start = pd.to_datetime('2010-01-01')\n",
        "end = pd.to_datetime('2021-01-01')\n",
        "\n",
        "# Definir las acciones\n",
        "ticker_1 = 'FERREYC1.LM' # Accion de Ferreyros\n",
        "ticker_2 = '^SPBLPGPT'# Indice de la BVL\n",
        "\n",
        "\n",
        "def capm(start, end, ticker_1, ticker_2):\n",
        "    # Obtenemos la data de la acción\n",
        "    stock_1 = yf.download(ticker_1, start=start, end=end)['Adj Close']\n",
        "    # Obtenemos la data del mercado\n",
        "    stock_2 = yf.download(ticker_2, start=start, end=end)['Adj Close']\n",
        "\n",
        "    # Reasampleado para data mensual\n",
        "    return_s1 = stock_1.resample('M').last()\n",
        "    return_s2 = stock_2.resample('M').last()\n",
        "\n",
        "    # Creamos un dataframe con los precios de cierre\n",
        "    data = pd.DataFrame({'Inv_Close': return_s1, 'Markt_Close': return_s2})\n",
        "\n",
        "    # Calcular los retornos logarítmicos de la acción e índice\n",
        "    data[['Inv_Ret', 'Markt_Ret']] = np.log(data[['Inv_Close', 'Markt_Close']] / data[['Inv_Close', 'Markt_Close']].shift(1))\n",
        "\n",
        "    # Eliminar los valores nulos generados por el shift\n",
        "    data.dropna(inplace=True)\n",
        "\n",
        "    # Calcular la beta usando la fórmula del CAPM\n",
        "    beta = (data[['Inv_Ret', 'Markt_Ret']].cov().iloc[0, 1]) / data['Markt_Ret'].var()\n",
        "\n",
        "    # Mostrar el resultado de la beta\n",
        "    print('Beta de la fórmula del CAPM: ', beta.round(4))\n",
        "\n",
        "    # Calculamos el retorno esperado\n",
        "    expected_return = risk_free_return + beta*(data[\"Markt_Ret\"].mean()*12-risk_free_return)\n",
        "    print(\"Retorno esperado: \",expected_return)\n",
        "\n",
        "if __name__ == \"__main__\":\n",
        "    # Asignar tasa libre de riesgo, por ejemplo, 0.02 o 2%\n",
        "    risk_free_rate = 0.03\n",
        "\n",
        "    # Llamar a la función con los parámetros\n",
        "    capm(\"2010-01-01\", \"2021-01-01\", 'AAPL', \"^GSPC\")"
      ],
      "metadata": {
        "id": "RCsEHI9Bn0iU",
        "colab": {
          "base_uri": "https://localhost:8080/"
        },
        "outputId": "d7eafbde-c809-4ad3-9bfd-f82f8dda68b5"
      },
      "execution_count": 10,
      "outputs": [
        {
          "output_type": "stream",
          "name": "stderr",
          "text": [
            "[*********************100%***********************]  1 of 1 completed\n",
            "[*********************100%***********************]  1 of 1 completed"
          ]
        },
        {
          "output_type": "stream",
          "name": "stdout",
          "text": [
            "Beta de la fórmula del CAPM:  1.0971\n",
            "Retorno esperado:  0.12291957838186593\n"
          ]
        },
        {
          "output_type": "stream",
          "name": "stderr",
          "text": [
            "\n"
          ]
        }
      ]
    }
  ]
}